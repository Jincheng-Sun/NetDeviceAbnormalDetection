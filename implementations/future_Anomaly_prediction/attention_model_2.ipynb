{
 "cells": [
  {
   "cell_type": "code",
   "execution_count": 1,
   "metadata": {},
   "outputs": [],
   "source": [
    "import sys\n",
    "import numpy as np\n",
    "import pandas as pd\n",
    "import tensorflow as tf\n",
    "pd.set_option(\"display.max_columns\", 50)"
   ]
  },
  {
   "cell_type": "code",
   "execution_count": null,
   "metadata": {},
   "outputs": [],
   "source": [
    "features = np.load('PM values')\n",
    "devices = np.load('one-hot device file')"
   ]
  },
  {
   "cell_type": "code",
   "execution_count": 3,
   "metadata": {},
   "outputs": [
    {
     "name": "stdout",
     "output_type": "stream",
     "text": [
      "INFO:tensorflow:Restoring parameters from models/attn_m3-700\n"
     ]
    }
   ],
   "source": [
    "number = 700\n",
    "sess = tf.Session()\n",
    "saver = tf.train.import_meta_graph('models/attn_m3-%s.meta'%str(number))\n",
    "saver.restore(sess=sess, save_path='models/attn_m3-%s'%str(number))\n",
    "graph = tf.get_default_graph()"
   ]
  },
  {
   "cell_type": "code",
   "execution_count": 6,
   "metadata": {},
   "outputs": [],
   "source": [
    "input_x = graph.get_tensor_by_name('input/features:0')\n",
    "input_dev = graph.get_tensor_by_name('input/dev_type:0')\n",
    "is_training = graph.get_tensor_by_name('input/is_training:0')\n",
    "output_proba = graph.get_tensor_by_name('error/Sigmoid:0')"
   ]
  },
  {
   "cell_type": "code",
   "execution_count": 9,
   "metadata": {},
   "outputs": [],
   "source": [
    "proba = sess.run([output_proba], feed_dict={input_x: features,\n",
    "                                           input_dev: devices,\n",
    "                                           is_training: False})"
   ]
  },
  {
   "cell_type": "code",
   "execution_count": 10,
   "metadata": {},
   "outputs": [
    {
     "data": {
      "text/plain": [
       "[array([[0.01999724],\n",
       "        [0.19499397]], dtype=float32)]"
      ]
     },
     "execution_count": 10,
     "metadata": {},
     "output_type": "execute_result"
    }
   ],
   "source": [
    "proba"
   ]
  }
 ],
 "metadata": {
  "kernelspec": {
   "display_name": "Python 3",
   "language": "python",
   "name": "python3"
  },
  "language_info": {
   "codemirror_mode": {
    "name": "ipython",
    "version": 3
   },
   "file_extension": ".py",
   "mimetype": "text/x-python",
   "name": "python",
   "nbconvert_exporter": "python",
   "pygments_lexer": "ipython3",
   "version": "3.5.2"
  }
 },
 "nbformat": 4,
 "nbformat_minor": 1
}
