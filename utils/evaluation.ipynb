{
 "cells": [
  {
   "cell_type": "code",
   "execution_count": 1,
   "metadata": {},
   "outputs": [
    {
     "name": "stderr",
     "output_type": "stream",
     "text": [
      "Using TensorFlow backend.\n"
     ]
    }
   ],
   "source": [
    "import pandas as pd\n",
    "pd.set_option('display.max_columns', 50)\n",
    "import numpy as np\n",
    "import tensorflow as tf\n",
    "from sklearn.externals import joblib\n",
    "from keras.models import load_model"
   ]
  },
  {
   "cell_type": "markdown",
   "metadata": {},
   "source": [
    "# Data processing"
   ]
  },
  {
   "cell_type": "markdown",
   "metadata": {},
   "source": [
    "## Load scaler and encoders\n",
    "\n",
    "While using the scaler and encoders on new dataset, make sure the order of the PM values is the same with the example dataset (Ascend by alphabet)."
   ]
  },
  {
   "cell_type": "code",
   "execution_count": 2,
   "metadata": {},
   "outputs": [
    {
     "name": "stderr",
     "output_type": "stream",
     "text": [
      "/usr/local/lib/python3.5/dist-packages/keras/engine/saving.py:292: UserWarning: No training configuration found in save file: the model was *not* compiled. Compile it manually.\n",
      "  warnings.warn('No training configuration found in save file: '\n"
     ]
    }
   ],
   "source": [
    "min_max_scaler = joblib.load('encoders/Minmax_scaler')\n",
    "autoencoder = load_model('encoders/encoder_1layer_75dims')\n",
    "label_encoder = joblib.load('encoders/label_encoder')\n",
    "onehot_encoder = joblib.load('encoders/onehot_encoder')"
   ]
  },
  {
   "cell_type": "markdown",
   "metadata": {},
   "source": [
    "## Data preprocessing"
   ]
  },
  {
   "cell_type": "code",
   "execution_count": 3,
   "metadata": {},
   "outputs": [],
   "source": [
    "data = pd.read_csv('data/testset.csv')\n",
    "dev_list = ['CHMON', 'STM64', 'OC192', 'STTP', 'STM4', 'STM16', 'NMCMON', 'OC48', 'OC12', 'OC3', 'FLEX', 'RAMAN']\n",
    "data = data.drop(data[data['GROUPBYKEY'].isin(dev_list)].index)\n",
    "data = data.fillna(0)"
   ]
  },
  {
   "cell_type": "code",
   "execution_count": 4,
   "metadata": {
    "scrolled": true
   },
   "outputs": [
    {
     "data": {
      "text/html": [
       "<div>\n",
       "<style scoped>\n",
       "    .dataframe tbody tr th:only-of-type {\n",
       "        vertical-align: middle;\n",
       "    }\n",
       "\n",
       "    .dataframe tbody tr th {\n",
       "        vertical-align: top;\n",
       "    }\n",
       "\n",
       "    .dataframe thead th {\n",
       "        text-align: right;\n",
       "    }\n",
       "</style>\n",
       "<table border=\"1\" class=\"dataframe\">\n",
       "  <thead>\n",
       "    <tr style=\"text-align: right;\">\n",
       "      <th></th>\n",
       "      <th>ID</th>\n",
       "      <th>TIME</th>\n",
       "      <th>LABEL</th>\n",
       "      <th>GROUPBYKEY</th>\n",
       "      <th>BBE-RS</th>\n",
       "      <th>CV-OTU</th>\n",
       "      <th>CV-S</th>\n",
       "      <th>DROPGAINAVG-OTS</th>\n",
       "      <th>DROPGAINMAX-OTS_DROPGAINMIN-OTS_-</th>\n",
       "      <th>E-CV</th>\n",
       "      <th>E-ES</th>\n",
       "      <th>E-INFRAMESERR_E-INFRAMES_/</th>\n",
       "      <th>E-OUTFRAMESERR_E-OUTFRAMES_/</th>\n",
       "      <th>E-UAS</th>\n",
       "      <th>ES-OTU</th>\n",
       "      <th>ES-RS</th>\n",
       "      <th>ES-S</th>\n",
       "      <th>OCH-OPRAVG</th>\n",
       "      <th>OCH-OPRMAX_OCH-OPRMIN_-</th>\n",
       "      <th>OCH-SPANLOSSAVG</th>\n",
       "      <th>OCH-SPANLOSSMAX_OCH-SPANLOSSMIN_-</th>\n",
       "      <th>OPINAVG-OTS</th>\n",
       "      <th>OPINMAX-OTS_OPINMIN-OTS_-</th>\n",
       "      <th>OPOUTAVG-OTS</th>\n",
       "      <th>OPOUTAVG-OTS_OPINAVG-OTS_-</th>\n",
       "      <th>OPOUTMAX-OTS_OPOUTMIN-OTS_-</th>\n",
       "      <th>OPRAVG-OCH</th>\n",
       "      <th>OPRAVG-OTS</th>\n",
       "      <th>OPRMAX-OCH_OPRMIN-OCH_-</th>\n",
       "      <th>OPRMAX-OTS_OPRMIN-OTS_-</th>\n",
       "      <th>OPTAVG-OCH</th>\n",
       "      <th>OPTAVG-OTS</th>\n",
       "      <th>OPTMAX-OCH_OPTMIN-OCH_-</th>\n",
       "      <th>OPTMAX-OTS_OPTMIN-OTS_-</th>\n",
       "      <th>ORLAVG-OTS</th>\n",
       "      <th>ORLMIN-OTS</th>\n",
       "      <th>OTU-CV</th>\n",
       "      <th>OTU-ES</th>\n",
       "      <th>OTU-QAVG</th>\n",
       "      <th>OTU-QSTDEV</th>\n",
       "      <th>PCS-CV</th>\n",
       "      <th>PCS-ES</th>\n",
       "      <th>PCS-UAS</th>\n",
       "      <th>QAVG-OTU</th>\n",
       "      <th>QSTDEV-OTU</th>\n",
       "      <th>RS-BBE</th>\n",
       "      <th>RS-ES</th>\n",
       "      <th>S-CV</th>\n",
       "      <th>S-ES</th>\n",
       "      <th>ALARM</th>\n",
       "    </tr>\n",
       "  </thead>\n",
       "  <tbody>\n",
       "    <tr>\n",
       "      <th>0</th>\n",
       "      <td>Device86996</td>\n",
       "      <td>2019-02-27</td>\n",
       "      <td>IS-ANR</td>\n",
       "      <td>ETH10G</td>\n",
       "      <td>0.0</td>\n",
       "      <td>0.0</td>\n",
       "      <td>0.0</td>\n",
       "      <td>0.0</td>\n",
       "      <td>0.0</td>\n",
       "      <td>0.0</td>\n",
       "      <td>0.0</td>\n",
       "      <td>0.0</td>\n",
       "      <td>0.0</td>\n",
       "      <td>172802.0</td>\n",
       "      <td>0.0</td>\n",
       "      <td>0.0</td>\n",
       "      <td>0.0</td>\n",
       "      <td>0.0</td>\n",
       "      <td>0.0</td>\n",
       "      <td>0.0</td>\n",
       "      <td>0.0</td>\n",
       "      <td>0.0</td>\n",
       "      <td>0.0</td>\n",
       "      <td>0.0</td>\n",
       "      <td>0.0</td>\n",
       "      <td>0.0</td>\n",
       "      <td>0.00</td>\n",
       "      <td>0.00</td>\n",
       "      <td>0.0</td>\n",
       "      <td>0.00</td>\n",
       "      <td>0.0</td>\n",
       "      <td>0.00</td>\n",
       "      <td>0.0</td>\n",
       "      <td>0.0</td>\n",
       "      <td>0.0</td>\n",
       "      <td>0.0</td>\n",
       "      <td>0.0</td>\n",
       "      <td>0.0</td>\n",
       "      <td>0.00</td>\n",
       "      <td>0.00</td>\n",
       "      <td>2279.0</td>\n",
       "      <td>97.0</td>\n",
       "      <td>57802.0</td>\n",
       "      <td>0.0</td>\n",
       "      <td>0.0</td>\n",
       "      <td>0.0</td>\n",
       "      <td>0.0</td>\n",
       "      <td>0.0</td>\n",
       "      <td>0.0</td>\n",
       "      <td>Loss Of Frame</td>\n",
       "    </tr>\n",
       "    <tr>\n",
       "      <th>1</th>\n",
       "      <td>Device98491</td>\n",
       "      <td>2019-02-27</td>\n",
       "      <td>OOS-AU</td>\n",
       "      <td>ETH10G</td>\n",
       "      <td>0.0</td>\n",
       "      <td>0.0</td>\n",
       "      <td>0.0</td>\n",
       "      <td>0.0</td>\n",
       "      <td>0.0</td>\n",
       "      <td>0.0</td>\n",
       "      <td>0.0</td>\n",
       "      <td>0.0</td>\n",
       "      <td>0.0</td>\n",
       "      <td>172802.0</td>\n",
       "      <td>0.0</td>\n",
       "      <td>0.0</td>\n",
       "      <td>0.0</td>\n",
       "      <td>0.0</td>\n",
       "      <td>0.0</td>\n",
       "      <td>0.0</td>\n",
       "      <td>0.0</td>\n",
       "      <td>0.0</td>\n",
       "      <td>0.0</td>\n",
       "      <td>0.0</td>\n",
       "      <td>0.0</td>\n",
       "      <td>0.0</td>\n",
       "      <td>0.00</td>\n",
       "      <td>0.00</td>\n",
       "      <td>0.0</td>\n",
       "      <td>0.00</td>\n",
       "      <td>0.0</td>\n",
       "      <td>0.00</td>\n",
       "      <td>0.0</td>\n",
       "      <td>0.0</td>\n",
       "      <td>0.0</td>\n",
       "      <td>0.0</td>\n",
       "      <td>0.0</td>\n",
       "      <td>0.0</td>\n",
       "      <td>0.00</td>\n",
       "      <td>0.00</td>\n",
       "      <td>0.0</td>\n",
       "      <td>8.0</td>\n",
       "      <td>86344.0</td>\n",
       "      <td>0.0</td>\n",
       "      <td>0.0</td>\n",
       "      <td>0.0</td>\n",
       "      <td>0.0</td>\n",
       "      <td>0.0</td>\n",
       "      <td>0.0</td>\n",
       "      <td>Laser Off Far End Failure Triggered</td>\n",
       "    </tr>\n",
       "    <tr>\n",
       "      <th>2</th>\n",
       "      <td>Device64479</td>\n",
       "      <td>2019-01-04</td>\n",
       "      <td>IS</td>\n",
       "      <td>OPTMON</td>\n",
       "      <td>0.0</td>\n",
       "      <td>0.0</td>\n",
       "      <td>0.0</td>\n",
       "      <td>0.0</td>\n",
       "      <td>0.0</td>\n",
       "      <td>0.0</td>\n",
       "      <td>0.0</td>\n",
       "      <td>0.0</td>\n",
       "      <td>0.0</td>\n",
       "      <td>0.0</td>\n",
       "      <td>0.0</td>\n",
       "      <td>0.0</td>\n",
       "      <td>0.0</td>\n",
       "      <td>0.0</td>\n",
       "      <td>0.0</td>\n",
       "      <td>0.0</td>\n",
       "      <td>0.0</td>\n",
       "      <td>0.0</td>\n",
       "      <td>0.0</td>\n",
       "      <td>0.0</td>\n",
       "      <td>0.0</td>\n",
       "      <td>0.0</td>\n",
       "      <td>0.00</td>\n",
       "      <td>12.78</td>\n",
       "      <td>0.0</td>\n",
       "      <td>0.37</td>\n",
       "      <td>0.0</td>\n",
       "      <td>0.00</td>\n",
       "      <td>0.0</td>\n",
       "      <td>0.0</td>\n",
       "      <td>0.0</td>\n",
       "      <td>0.0</td>\n",
       "      <td>0.0</td>\n",
       "      <td>0.0</td>\n",
       "      <td>0.00</td>\n",
       "      <td>0.00</td>\n",
       "      <td>0.0</td>\n",
       "      <td>0.0</td>\n",
       "      <td>0.0</td>\n",
       "      <td>0.0</td>\n",
       "      <td>0.0</td>\n",
       "      <td>0.0</td>\n",
       "      <td>0.0</td>\n",
       "      <td>0.0</td>\n",
       "      <td>0.0</td>\n",
       "      <td>0</td>\n",
       "    </tr>\n",
       "    <tr>\n",
       "      <th>3</th>\n",
       "      <td>Device94142</td>\n",
       "      <td>2019-02-11</td>\n",
       "      <td>IS</td>\n",
       "      <td>OTM</td>\n",
       "      <td>0.0</td>\n",
       "      <td>0.0</td>\n",
       "      <td>0.0</td>\n",
       "      <td>0.0</td>\n",
       "      <td>0.0</td>\n",
       "      <td>0.0</td>\n",
       "      <td>0.0</td>\n",
       "      <td>0.0</td>\n",
       "      <td>0.0</td>\n",
       "      <td>0.0</td>\n",
       "      <td>0.0</td>\n",
       "      <td>0.0</td>\n",
       "      <td>0.0</td>\n",
       "      <td>0.0</td>\n",
       "      <td>0.0</td>\n",
       "      <td>0.0</td>\n",
       "      <td>0.0</td>\n",
       "      <td>0.0</td>\n",
       "      <td>0.0</td>\n",
       "      <td>0.0</td>\n",
       "      <td>0.0</td>\n",
       "      <td>0.0</td>\n",
       "      <td>-8.31</td>\n",
       "      <td>0.00</td>\n",
       "      <td>0.5</td>\n",
       "      <td>0.00</td>\n",
       "      <td>0.0</td>\n",
       "      <td>0.00</td>\n",
       "      <td>0.0</td>\n",
       "      <td>0.0</td>\n",
       "      <td>0.0</td>\n",
       "      <td>0.0</td>\n",
       "      <td>0.0</td>\n",
       "      <td>0.0</td>\n",
       "      <td>12.99</td>\n",
       "      <td>0.04</td>\n",
       "      <td>0.0</td>\n",
       "      <td>0.0</td>\n",
       "      <td>0.0</td>\n",
       "      <td>0.0</td>\n",
       "      <td>0.0</td>\n",
       "      <td>0.0</td>\n",
       "      <td>0.0</td>\n",
       "      <td>0.0</td>\n",
       "      <td>0.0</td>\n",
       "      <td>0</td>\n",
       "    </tr>\n",
       "    <tr>\n",
       "      <th>4</th>\n",
       "      <td>Device30622</td>\n",
       "      <td>2019-03-18</td>\n",
       "      <td>IS</td>\n",
       "      <td>OPTMON</td>\n",
       "      <td>0.0</td>\n",
       "      <td>0.0</td>\n",
       "      <td>0.0</td>\n",
       "      <td>0.0</td>\n",
       "      <td>0.0</td>\n",
       "      <td>0.0</td>\n",
       "      <td>0.0</td>\n",
       "      <td>0.0</td>\n",
       "      <td>0.0</td>\n",
       "      <td>0.0</td>\n",
       "      <td>0.0</td>\n",
       "      <td>0.0</td>\n",
       "      <td>0.0</td>\n",
       "      <td>0.0</td>\n",
       "      <td>0.0</td>\n",
       "      <td>0.0</td>\n",
       "      <td>0.0</td>\n",
       "      <td>0.0</td>\n",
       "      <td>0.0</td>\n",
       "      <td>0.0</td>\n",
       "      <td>0.0</td>\n",
       "      <td>0.0</td>\n",
       "      <td>0.00</td>\n",
       "      <td>0.00</td>\n",
       "      <td>0.0</td>\n",
       "      <td>0.00</td>\n",
       "      <td>0.0</td>\n",
       "      <td>-5.19</td>\n",
       "      <td>0.0</td>\n",
       "      <td>0.2</td>\n",
       "      <td>0.0</td>\n",
       "      <td>0.0</td>\n",
       "      <td>0.0</td>\n",
       "      <td>0.0</td>\n",
       "      <td>0.00</td>\n",
       "      <td>0.00</td>\n",
       "      <td>0.0</td>\n",
       "      <td>0.0</td>\n",
       "      <td>0.0</td>\n",
       "      <td>0.0</td>\n",
       "      <td>0.0</td>\n",
       "      <td>0.0</td>\n",
       "      <td>0.0</td>\n",
       "      <td>0.0</td>\n",
       "      <td>0.0</td>\n",
       "      <td>0</td>\n",
       "    </tr>\n",
       "  </tbody>\n",
       "</table>\n",
       "</div>"
      ],
      "text/plain": [
       "            ID        TIME   LABEL GROUPBYKEY  BBE-RS  CV-OTU  CV-S  \\\n",
       "0  Device86996  2019-02-27  IS-ANR     ETH10G     0.0     0.0   0.0   \n",
       "1  Device98491  2019-02-27  OOS-AU     ETH10G     0.0     0.0   0.0   \n",
       "2  Device64479  2019-01-04      IS     OPTMON     0.0     0.0   0.0   \n",
       "3  Device94142  2019-02-11      IS        OTM     0.0     0.0   0.0   \n",
       "4  Device30622  2019-03-18      IS     OPTMON     0.0     0.0   0.0   \n",
       "\n",
       "   DROPGAINAVG-OTS  DROPGAINMAX-OTS_DROPGAINMIN-OTS_-  E-CV  E-ES  \\\n",
       "0              0.0                                0.0   0.0   0.0   \n",
       "1              0.0                                0.0   0.0   0.0   \n",
       "2              0.0                                0.0   0.0   0.0   \n",
       "3              0.0                                0.0   0.0   0.0   \n",
       "4              0.0                                0.0   0.0   0.0   \n",
       "\n",
       "   E-INFRAMESERR_E-INFRAMES_/  E-OUTFRAMESERR_E-OUTFRAMES_/     E-UAS  ES-OTU  \\\n",
       "0                         0.0                           0.0  172802.0     0.0   \n",
       "1                         0.0                           0.0  172802.0     0.0   \n",
       "2                         0.0                           0.0       0.0     0.0   \n",
       "3                         0.0                           0.0       0.0     0.0   \n",
       "4                         0.0                           0.0       0.0     0.0   \n",
       "\n",
       "   ES-RS  ES-S  OCH-OPRAVG  OCH-OPRMAX_OCH-OPRMIN_-  OCH-SPANLOSSAVG  \\\n",
       "0    0.0   0.0         0.0                      0.0              0.0   \n",
       "1    0.0   0.0         0.0                      0.0              0.0   \n",
       "2    0.0   0.0         0.0                      0.0              0.0   \n",
       "3    0.0   0.0         0.0                      0.0              0.0   \n",
       "4    0.0   0.0         0.0                      0.0              0.0   \n",
       "\n",
       "   OCH-SPANLOSSMAX_OCH-SPANLOSSMIN_-  OPINAVG-OTS  OPINMAX-OTS_OPINMIN-OTS_-  \\\n",
       "0                                0.0          0.0                        0.0   \n",
       "1                                0.0          0.0                        0.0   \n",
       "2                                0.0          0.0                        0.0   \n",
       "3                                0.0          0.0                        0.0   \n",
       "4                                0.0          0.0                        0.0   \n",
       "\n",
       "   OPOUTAVG-OTS  OPOUTAVG-OTS_OPINAVG-OTS_-  OPOUTMAX-OTS_OPOUTMIN-OTS_-  \\\n",
       "0           0.0                         0.0                          0.0   \n",
       "1           0.0                         0.0                          0.0   \n",
       "2           0.0                         0.0                          0.0   \n",
       "3           0.0                         0.0                          0.0   \n",
       "4           0.0                         0.0                          0.0   \n",
       "\n",
       "   OPRAVG-OCH  OPRAVG-OTS  OPRMAX-OCH_OPRMIN-OCH_-  OPRMAX-OTS_OPRMIN-OTS_-  \\\n",
       "0        0.00        0.00                      0.0                     0.00   \n",
       "1        0.00        0.00                      0.0                     0.00   \n",
       "2        0.00       12.78                      0.0                     0.37   \n",
       "3       -8.31        0.00                      0.5                     0.00   \n",
       "4        0.00        0.00                      0.0                     0.00   \n",
       "\n",
       "   OPTAVG-OCH  OPTAVG-OTS  OPTMAX-OCH_OPTMIN-OCH_-  OPTMAX-OTS_OPTMIN-OTS_-  \\\n",
       "0         0.0        0.00                      0.0                      0.0   \n",
       "1         0.0        0.00                      0.0                      0.0   \n",
       "2         0.0        0.00                      0.0                      0.0   \n",
       "3         0.0        0.00                      0.0                      0.0   \n",
       "4         0.0       -5.19                      0.0                      0.2   \n",
       "\n",
       "   ORLAVG-OTS  ORLMIN-OTS  OTU-CV  OTU-ES  OTU-QAVG  OTU-QSTDEV  PCS-CV  \\\n",
       "0         0.0         0.0     0.0     0.0      0.00        0.00  2279.0   \n",
       "1         0.0         0.0     0.0     0.0      0.00        0.00     0.0   \n",
       "2         0.0         0.0     0.0     0.0      0.00        0.00     0.0   \n",
       "3         0.0         0.0     0.0     0.0     12.99        0.04     0.0   \n",
       "4         0.0         0.0     0.0     0.0      0.00        0.00     0.0   \n",
       "\n",
       "   PCS-ES  PCS-UAS  QAVG-OTU  QSTDEV-OTU  RS-BBE  RS-ES  S-CV  S-ES  \\\n",
       "0    97.0  57802.0       0.0         0.0     0.0    0.0   0.0   0.0   \n",
       "1     8.0  86344.0       0.0         0.0     0.0    0.0   0.0   0.0   \n",
       "2     0.0      0.0       0.0         0.0     0.0    0.0   0.0   0.0   \n",
       "3     0.0      0.0       0.0         0.0     0.0    0.0   0.0   0.0   \n",
       "4     0.0      0.0       0.0         0.0     0.0    0.0   0.0   0.0   \n",
       "\n",
       "                                 ALARM  \n",
       "0                        Loss Of Frame  \n",
       "1  Laser Off Far End Failure Triggered  \n",
       "2                                    0  \n",
       "3                                    0  \n",
       "4                                    0  "
      ]
     },
     "execution_count": 4,
     "metadata": {},
     "output_type": "execute_result"
    }
   ],
   "source": [
    "data.head()\n"
   ]
  },
  {
   "cell_type": "code",
   "execution_count": 5,
   "metadata": {},
   "outputs": [],
   "source": [
    "data = data.drop(['ID','TIME','LABEL'], axis=1)"
   ]
  },
  {
   "cell_type": "markdown",
   "metadata": {},
   "source": [
    "## Convert 45 PM values to 86 features\n",
    "\n",
    "*45 PM values -> scaled -> autoencoder -> 75 features*\n",
    "\n",
    "*GROUPBYKEY -> label_encoder -> onehot_encoder -> 11 features*\n",
    "\n",
    "**Concatenate the 75 features with the 11 features to form 86 features**"
   ]
  },
  {
   "cell_type": "code",
   "execution_count": 6,
   "metadata": {},
   "outputs": [
    {
     "data": {
      "text/plain": [
       "array(['AMP', 'ETH', 'ETH10G', 'ETHN', 'ETTP', 'OPTMON', 'OSC', 'OTM',\n",
       "       'OTM2', 'OTUTTP', 'PTP'], dtype='<U6')"
      ]
     },
     "execution_count": 6,
     "metadata": {},
     "output_type": "execute_result"
    }
   ],
   "source": [
    "label_encoder.classes_"
   ]
  },
  {
   "cell_type": "code",
   "execution_count": 7,
   "metadata": {},
   "outputs": [
    {
     "name": "stderr",
     "output_type": "stream",
     "text": [
      "/usr/local/lib/python3.5/dist-packages/sklearn/preprocessing/label.py:252: DataConversionWarning: A column-vector y was passed when a 1d array was expected. Please change the shape of y to (n_samples, ), for example using ravel().\n",
      "  y = column_or_1d(y, warn=True)\n"
     ]
    }
   ],
   "source": [
    "data.iloc[:, 1:46] = min_max_scaler.transform(data.iloc[:, 1:46])\n",
    "PMs = autoencoder.predict(data.iloc[:,1:46])\n",
    "GBK = label_encoder.transform(np.reshape(data['GROUPBYKEY'].tolist(), [-1, 1]))\n",
    "GBK = np.reshape(GBK, [-1, 1])\n",
    "GBK = onehot_encoder.transform(GBK)\n",
    "GBK = pd.DataFrame(GBK.toarray())\n",
    "x_test = np.concatenate([GBK,PMs],axis=1)"
   ]
  },
  {
   "cell_type": "markdown",
   "metadata": {},
   "source": [
    "**Convert input data into a 3-D shape**"
   ]
  },
  {
   "cell_type": "code",
   "execution_count": 8,
   "metadata": {},
   "outputs": [],
   "source": [
    "x_test = x_test.reshape([-1, x_test.shape[1], 1])"
   ]
  },
  {
   "cell_type": "markdown",
   "metadata": {},
   "source": [
    "# Restore model and predict"
   ]
  },
  {
   "cell_type": "markdown",
   "metadata": {},
   "source": [
    "**Load graph and restore parameters**\n",
    "\n",
    "*number* in (1100, 1300, 3000, 3200, 3500), they are 5 models I trained\n",
    "\n",
    "*number* stands for training epoches of each model"
   ]
  },
  {
   "cell_type": "code",
   "execution_count": 9,
   "metadata": {},
   "outputs": [
    {
     "name": "stdout",
     "output_type": "stream",
     "text": [
      "INFO:tensorflow:Restoring parameters from TF_models/mean_teacher-1100\n"
     ]
    }
   ],
   "source": [
    "number = 1100\n",
    "sess = tf.Session()\n",
    "saver = tf.train.import_meta_graph('TF_models/mean_teacher-%s.meta'%str(number))\n",
    "saver.restore(sess=sess, save_path='TF_models/mean_teacher-%s'%str(number))\n",
    "graph = tf.get_default_graph()"
   ]
  },
  {
   "cell_type": "markdown",
   "metadata": {},
   "source": [
    "**Get input and output tensor**"
   ]
  },
  {
   "cell_type": "code",
   "execution_count": 10,
   "metadata": {},
   "outputs": [],
   "source": [
    "try:\n",
    "    input = graph.get_tensor_by_name('placeholders/Placeholder:0')\n",
    "    output = graph.get_tensor_by_name('primary/fully_connected/add:0')\n",
    "except:\n",
    "    input = graph.get_tensor_by_name('placeholders/features:0')\n",
    "    output = graph.get_tensor_by_name('output:0')"
   ]
  },
  {
   "cell_type": "markdown",
   "metadata": {},
   "source": [
    "**Output and argmax the result**"
   ]
  },
  {
   "cell_type": "code",
   "execution_count": 11,
   "metadata": {},
   "outputs": [],
   "source": [
    "out = sess.run([output], feed_dict={input : x_test})[0]"
   ]
  },
  {
   "cell_type": "code",
   "execution_count": 12,
   "metadata": {},
   "outputs": [],
   "source": [
    "result = np.argmax(out,axis=1)\n",
    "result = result.reshape([-1,1])        "
   ]
  },
  {
   "cell_type": "markdown",
   "metadata": {},
   "source": [
    "# Test section\n",
    "\n",
    "**This section is for dataset that has 'ALARM' column in it**"
   ]
  },
  {
   "cell_type": "markdown",
   "metadata": {},
   "source": [
    "**Data sample with 'ALARM' that is '0' will be considered Normal, otherwise malfunction**"
   ]
  },
  {
   "cell_type": "code",
   "execution_count": 13,
   "metadata": {},
   "outputs": [],
   "source": [
    "alarm_idx = data[data['ALARM'] != '0'].index\n",
    "normal_idx = data[data['ALARM'] == '0'].index\n",
    "data.loc[alarm_idx,['ALARM']] = 1\n",
    "data.loc[normal_idx,['ALARM']] = 0\n",
    "y_test = data['ALARM'].to_list()"
   ]
  },
  {
   "cell_type": "code",
   "execution_count": 14,
   "metadata": {},
   "outputs": [],
   "source": [
    "from toolib.draw_cm import cm_metrix, cm_analysis\n",
    "from sklearn.metrics import accuracy_score,classification_report"
   ]
  },
  {
   "cell_type": "markdown",
   "metadata": {},
   "source": [
    "**Calculate the confusion matrix (cm) and plot the result**"
   ]
  },
  {
   "cell_type": "code",
   "execution_count": 15,
   "metadata": {},
   "outputs": [
    {
     "data": {
      "image/png": "[encoded data removed]",
      "text/plain": [
       "<Figure size 1800x1200 with 2 Axes>"
      ]
     },
     "metadata": {},
     "output_type": "display_data"
    }
   ],
   "source": [
    "cm = cm_metrix(y_test=y_test, y_pred=result)\n",
    "cm_analysis(cm,['Normal', 'malfunction'],precision=True)"
   ]
  },
  {
   "cell_type": "markdown",
   "metadata": {},
   "source": [
    "**Accuracy**"
   ]
  },
  {
   "cell_type": "code",
   "execution_count": 16,
   "metadata": {},
   "outputs": [
    {
     "name": "stdout",
     "output_type": "stream",
     "text": [
      "0.9357935153583617\n"
     ]
    }
   ],
   "source": [
    "accuracy = accuracy_score(y_true=y_test, y_pred=result)\n",
    "print(accuracy)"
   ]
  },
  {
   "cell_type": "markdown",
   "metadata": {},
   "source": [
    "**Classification report**"
   ]
  },
  {
   "cell_type": "code",
   "execution_count": 17,
   "metadata": {},
   "outputs": [
    {
     "name": "stdout",
     "output_type": "stream",
     "text": [
      "              precision    recall  f1-score   support\n",
      "\n",
      "           0       0.89      0.99      0.94      2357\n",
      "           1       0.99      0.88      0.93      2331\n",
      "\n",
      "   micro avg       0.94      0.94      0.94      4688\n",
      "   macro avg       0.94      0.94      0.94      4688\n",
      "weighted avg       0.94      0.94      0.94      4688\n",
      "\n"
     ]
    }
   ],
   "source": [
    "print(classification_report(y_true=y_test, y_pred=result))"
   ]
  }
 ],
 "metadata": {
  "kernelspec": {
   "display_name": "Python 3",
   "language": "python",
   "name": "python3"
  },
  "language_info": {
   "codemirror_mode": {
    "name": "ipython",
    "version": 3
   },
   "file_extension": ".py",
   "mimetype": "text/x-python",
   "name": "python",
   "nbconvert_exporter": "python",
   "pygments_lexer": "ipython3",
   "version": "3.5.2"
  }
 },
 "nbformat": 4,
 "nbformat_minor": 2
}
